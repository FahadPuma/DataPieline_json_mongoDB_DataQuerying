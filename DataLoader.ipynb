{
 "cells": [
  {
   "cell_type": "code",
   "execution_count": 1,
   "id": "29441715",
   "metadata": {},
   "outputs": [],
   "source": [
    "import json\n",
    "from pymongo import MongoClient\n",
    "import pymongo"
   ]
  },
  {
   "cell_type": "code",
   "execution_count": 2,
   "id": "433e6937",
   "metadata": {},
   "outputs": [],
   "source": [
    "# Creating a MongoDB instance to receive and store the data from json file\n",
    "client = MongoClient()\n",
    "#Creating database Restaurant and table rest_detail to store the data\n",
    "db = client['Restaurant']\n",
    "rest_detail=db.rest_detail"
   ]
  },
  {
   "cell_type": "markdown",
   "id": "7fb99e7c",
   "metadata": {},
   "source": [
    "#### Creating a variable to store json data"
   ]
  },
  {
   "cell_type": "code",
   "execution_count": 3,
   "id": "fdb7446f",
   "metadata": {},
   "outputs": [],
   "source": [
    "with open('res.json','r') as jsonfile:\n",
    "    data = [json.loads(_.replace('}]}\"},', '}]}\"}')) for _ in jsonfile.readlines()]"
   ]
  },
  {
   "cell_type": "code",
   "execution_count": 4,
   "id": "4cc37069",
   "metadata": {},
   "outputs": [],
   "source": [
    "# Converting _id value and removing '$oid' to create a corrected restaurant ID\n",
    "for i in data:\n",
    "    i['_id']=i['_id']['$oid']"
   ]
  },
  {
   "cell_type": "code",
   "execution_count": 5,
   "id": "116be1f7",
   "metadata": {},
   "outputs": [
    {
     "data": {
      "text/plain": [
       "[{'URL': 'http://www.just-eat.co.uk/restaurants-cn-chinese-cardiff/menu',\n",
       "  '_id': '55f14312c7447c3da7051b26',\n",
       "  'address': '228 City Road',\n",
       "  'address line 2': 'Cardiff',\n",
       "  'name': '.CN Chinese',\n",
       "  'outcode': 'CF24',\n",
       "  'postcode': '3JH',\n",
       "  'rating': 5,\n",
       "  'type_of_food': 'Chinese'},\n",
       " {'URL': 'http://www.just-eat.co.uk/restaurants-atthai-ss9/menu',\n",
       "  '_id': '55f14312c7447c3da7051b27',\n",
       "  'address': '376 Rayleigh Road',\n",
       "  'address line 2': 'Essex',\n",
       "  'name': '@ Thai',\n",
       "  'outcode': 'SS9',\n",
       "  'postcode': '5PT',\n",
       "  'rating': 5.5,\n",
       "  'type_of_food': 'Thai'},\n",
       " {'URL': 'http://www.just-eat.co.uk/restaurants-atthairestaurant/menu',\n",
       "  '_id': '55f14312c7447c3da7051b28',\n",
       "  'address': '30 Greyhound Road Hammersmith',\n",
       "  'address line 2': 'London',\n",
       "  'name': '@ Thai Restaurant',\n",
       "  'outcode': 'W6',\n",
       "  'postcode': '8NX',\n",
       "  'rating': 4.5,\n",
       "  'type_of_food': 'Thai'}]"
      ]
     },
     "execution_count": 5,
     "metadata": {},
     "output_type": "execute_result"
    }
   ],
   "source": [
    "# Verifying if the json file has been correctly imported into variable 'data'\n",
    "data[:3]"
   ]
  },
  {
   "cell_type": "markdown",
   "id": "ee77e792",
   "metadata": {},
   "source": [
    "#### Creating a unique id index for restaurant ID to avoid duplicate entries into MongoDB "
   ]
  },
  {
   "cell_type": "code",
   "execution_count": 6,
   "id": "239aeec1",
   "metadata": {},
   "outputs": [
    {
     "data": {
      "text/plain": [
       "['_id_', 'name_1', 'name_text']"
      ]
     },
     "execution_count": 6,
     "metadata": {},
     "output_type": "execute_result"
    }
   ],
   "source": [
    "rest_detail.create_index(\"name\", unique=True)\n",
    "list(rest_detail.index_information())"
   ]
  },
  {
   "cell_type": "markdown",
   "id": "1f92700a",
   "metadata": {},
   "source": [
    "#### Creating an index for text search to be used in Case 2"
   ]
  },
  {
   "cell_type": "code",
   "execution_count": 7,
   "id": "a790b23b",
   "metadata": {
    "scrolled": true
   },
   "outputs": [
    {
     "data": {
      "text/plain": [
       "'name_text'"
      ]
     },
     "execution_count": 7,
     "metadata": {},
     "output_type": "execute_result"
    }
   ],
   "source": [
    "rest_detail.create_index([(\"name\",pymongo.TEXT)])"
   ]
  },
  {
   "cell_type": "markdown",
   "id": "436e713c",
   "metadata": {},
   "source": [
    "#### Inserting data into mongoDB table rest_detail for rest_id, address, zipcode = outcode+postcode,type of food and rating of the restaurant, removing URL attribute"
   ]
  },
  {
   "cell_type": "code",
   "execution_count": 8,
   "id": "50bf8d3d",
   "metadata": {},
   "outputs": [],
   "source": [
    "for i in data:\n",
    "    try:\n",
    "        query={'rest_id':i['_id'],\"name\":i[\"name\"],\"address\":i['address'],'address_line2':i['address line 2'],\n",
    "               'zipcode':i['outcode']+i['postcode'],'type_of_food':i['type_of_food'],'rating':i['rating']}\n",
    "        rest_detail.insert_one(query)\n",
    "    except Exception as e:\n",
    "        pass"
   ]
  },
  {
   "cell_type": "code",
   "execution_count": 9,
   "id": "ff68e72e",
   "metadata": {},
   "outputs": [
    {
     "data": {
      "text/plain": [
       "{'_id': ObjectId('6148c7cf655656e743a82ddc'),\n",
       " 'rest_id': '55f14312c7447c3da7051b26',\n",
       " 'name': '.CN Chinese',\n",
       " 'address': '228 City Road',\n",
       " 'address_line2': 'Cardiff',\n",
       " 'zipcode': 'CF243JH',\n",
       " 'type_of_food': 'Chinese',\n",
       " 'rating': 5}"
      ]
     },
     "execution_count": 9,
     "metadata": {},
     "output_type": "execute_result"
    }
   ],
   "source": [
    "# To verify if the records have been correctly inserted into mongoDB\n",
    "rest_detail.find_one()"
   ]
  },
  {
   "cell_type": "markdown",
   "id": "7bb4fdd3",
   "metadata": {},
   "source": [
    "### Verifying if the unique index created on 'name' is restricting any duplicate value insertion with an existing name '042 Restaurant & Bar'"
   ]
  },
  {
   "cell_type": "code",
   "execution_count": 10,
   "id": "6d47c2f4",
   "metadata": {},
   "outputs": [
    {
     "name": "stdout",
     "output_type": "stream",
     "text": [
      "Trying to insert values for an existing rest_id: 55f14312c7447c3da7051b26\n",
      "\n",
      "Exception <class 'pymongo.errors.DuplicateKeyError'> occurred for a duplicate insertion!\n"
     ]
    }
   ],
   "source": [
    "try:\n",
    "    print(\"Trying to insert values for an existing rest_id: 55f14312c7447c3da7051b26\"+'\\n')\n",
    "    query={'rest_id':'55f14312c7447c3da7051b26',\"name\":'042 Restaurant & Bar',\"address\":'City Road','address_line2':'Cardiff',\n",
    "           'zipcode':'E111HR','type_of_food':'Chinese','rating':7}\n",
    "    rest_detail.insert_one(query)\n",
    "except Exception as e:\n",
    "    print(\"Exception\", e.__class__, \"occurred for a duplicate insertion!\")"
   ]
  },
  {
   "cell_type": "markdown",
   "id": "98f520c6",
   "metadata": {},
   "source": [
    "### As evident from the error message above, duplicate entries are not allowed for an existing rest_id in the table"
   ]
  }
 ],
 "metadata": {
  "kernelspec": {
   "display_name": "Python 3",
   "language": "python",
   "name": "python3"
  },
  "language_info": {
   "codemirror_mode": {
    "name": "ipython",
    "version": 3
   },
   "file_extension": ".py",
   "mimetype": "text/x-python",
   "name": "python",
   "nbconvert_exporter": "python",
   "pygments_lexer": "ipython3",
   "version": "3.8.8"
  }
 },
 "nbformat": 4,
 "nbformat_minor": 5
}
