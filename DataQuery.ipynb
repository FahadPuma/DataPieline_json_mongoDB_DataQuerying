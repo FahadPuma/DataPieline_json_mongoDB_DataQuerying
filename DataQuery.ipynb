{
 "cells": [
  {
   "cell_type": "code",
   "execution_count": 1,
   "id": "b6d6233e",
   "metadata": {},
   "outputs": [],
   "source": [
    "import json\n",
    "from pymongo import MongoClient"
   ]
  },
  {
   "cell_type": "code",
   "execution_count": 2,
   "id": "110d5d2d",
   "metadata": {},
   "outputs": [],
   "source": [
    "# Creating a MongoDB instance to receive and store the data from json file\n",
    "client = MongoClient()\n",
    "#Creating database Restaurant and table rest_detail to store the data\n",
    "db = client['Restaurant']\n",
    "rest_detail=db.rest_detail"
   ]
  },
  {
   "cell_type": "markdown",
   "id": "8484e58b",
   "metadata": {},
   "source": [
    "### 1.\tUser provides a choice of cuisine and zipcode, the query returns a list of top 5 restaurant names with full address and rating with results sorted descending order based on rating."
   ]
  },
  {
   "cell_type": "code",
   "execution_count": 3,
   "id": "88b04901",
   "metadata": {},
   "outputs": [
    {
     "name": "stdout",
     "output_type": "stream",
     "text": [
      "Top 5 restaurants for food type: Curry in the zipcode: KT190DT are - \r\n",
      "\r\n",
      "{'name': 'Alleppey Restaurant', 'address': '332 332 Kingston Road', 'address_line2': 'Surrey', 'rating': 5}\r\n",
      "{'name': 'Bayleaves', 'address': '364 Kingston Road', 'address_line2': 'Ewell', 'rating': 5}\r\n"
     ]
    }
   ],
   "source": [
    "!python 1_cuisine_zipcode.py \"Curry\" 'KT190DT'"
   ]
  },
  {
   "cell_type": "markdown",
   "id": "e876e1cd",
   "metadata": {},
   "source": [
    "### 2.\tUser provides a string to be searched in the address field and a minimum rating. The query returns all restaurant names and cuisine that match the inputs provided along with the match score. Sort output by descending score."
   ]
  },
  {
   "cell_type": "code",
   "execution_count": 4,
   "id": "b3ee4a00",
   "metadata": {},
   "outputs": [
    {
     "name": "stdout",
     "output_type": "stream",
     "text": [
      "Traceback (most recent call last):\r\n",
      "  File \"2_address_rating.py\", line 19, in <module>\r\n",
      "    result= rest_detail.aggregate(\r\n",
      "  File \"/Users/fahadaman/opt/anaconda3/lib/python3.8/site-packages/pymongo/collection.py\", line 2496, in aggregate\r\n",
      "    return self._aggregate(_CollectionAggregationCommand,\r\n",
      "  File \"/Users/fahadaman/opt/anaconda3/lib/python3.8/site-packages/pymongo/collection.py\", line 2418, in _aggregate\r\n",
      "    return self.__database.client._retryable_read(\r\n",
      "  File \"/Users/fahadaman/opt/anaconda3/lib/python3.8/site-packages/pymongo/mongo_client.py\", line 1525, in _retryable_read\r\n",
      "    return func(session, server, sock_info, secondary_ok)\r\n",
      "  File \"/Users/fahadaman/opt/anaconda3/lib/python3.8/site-packages/pymongo/aggregation.py\", line 137, in get_cursor\r\n",
      "    result = sock_info.command(\r\n",
      "  File \"/Users/fahadaman/opt/anaconda3/lib/python3.8/site-packages/pymongo/pool.py\", line 710, in command\r\n",
      "    return command(self, dbname, spec, secondary_ok,\r\n",
      "  File \"/Users/fahadaman/opt/anaconda3/lib/python3.8/site-packages/pymongo/network.py\", line 158, in command\r\n",
      "    helpers._check_command_response(\r\n",
      "  File \"/Users/fahadaman/opt/anaconda3/lib/python3.8/site-packages/pymongo/helpers.py\", line 167, in _check_command_response\r\n",
      "    raise OperationFailure(errmsg, code, response, max_wire_version)\r\n",
      "pymongo.errors.OperationFailure: FieldPath field names may not start with '$'. Consider using $getField or $setField., full error: {'ok': 0.0, 'errmsg': \"FieldPath field names may not start with '$'. Consider using $getField or $setField.\", 'code': 16410, 'codeName': 'Location16410'}\r\n"
     ]
    }
   ],
   "source": [
    "!python 2_address_rating.py \"Chin\""
   ]
  },
  {
   "cell_type": "markdown",
   "id": "9792a771",
   "metadata": {},
   "source": [
    "### 3.\tGive a cuisine, output how many (i.e. count) matching restaurants are there per zip code. Sort descending the 2 column output (zipcode, count) by the count."
   ]
  },
  {
   "cell_type": "code",
   "execution_count": 5,
   "id": "85436187",
   "metadata": {},
   "outputs": [
    {
     "name": "stdout",
     "output_type": "stream",
     "text": [
      "Restaurant count for food type: Thai in the zipcodes are - \r\n",
      "\r\n",
      "{'_id': {'zip': 'BN31JD'}, 'count': 1}\r\n",
      "{'_id': {'zip': 'N177QY'}, 'count': 1}\r\n",
      "{'_id': {'zip': 'DY31JA'}, 'count': 1}\r\n",
      "{'_id': {'zip': 'S118HY'}, 'count': 1}\r\n",
      "{'_id': {'zip': 'SW113BP'}, 'count': 1}\r\n",
      "{'_id': {'zip': 'LS61AF'}, 'count': 1}\r\n",
      "{'_id': {'zip': 'CR01QR'}, 'count': 1}\r\n",
      "{'_id': {'zip': 'N103DU'}, 'count': 1}\r\n",
      "{'_id': {'zip': 'AB101TX'}, 'count': 1}\r\n",
      "{'_id': {'zip': 'LA141PQ'}, 'count': 1}\r\n",
      "{'_id': {'zip': 'N213RX'}, 'count': 1}\r\n",
      "{'_id': {'zip': 'HX50DQ'}, 'count': 1}\r\n",
      "{'_id': {'zip': 'NE261DG'}, 'count': 1}\r\n",
      "{'_id': {'zip': 'SW198UG'}, 'count': 1}\r\n",
      "{'_id': {'zip': 'SS95PT'}, 'count': 1}\r\n",
      "{'_id': {'zip': 'E16LG'}, 'count': 1}\r\n",
      "{'_id': {'zip': 'PL71QW'}, 'count': 1}\r\n",
      "{'_id': {'zip': 'S118PT'}, 'count': 1}\r\n",
      "{'_id': {'zip': 'NG92QS'}, 'count': 1}\r\n",
      "{'_id': {'zip': 'HP11LA'}, 'count': 1}\r\n",
      "{'_id': {'zip': 'W43JY'}, 'count': 1}\r\n",
      "{'_id': {'zip': 'SW98LQ'}, 'count': 1}\r\n",
      "{'_id': {'zip': 'NW18NY'}, 'count': 1}\r\n",
      "{'_id': {'zip': 'G38YJ'}, 'count': 1}\r\n",
      "{'_id': {'zip': 'W68NX'}, 'count': 1}\r\n"
     ]
    }
   ],
   "source": [
    "!python 3_cuisine_restr.py \"Thai\""
   ]
  },
  {
   "cell_type": "markdown",
   "id": "d8a43a7a",
   "metadata": {},
   "source": [
    "### 4.\tShow the average rating per type of food and provide an ascending sorted output (type of food, rating) by rating. "
   ]
  },
  {
   "cell_type": "code",
   "execution_count": 6,
   "id": "9050c4b4",
   "metadata": {},
   "outputs": [
    {
     "name": "stdout",
     "output_type": "stream",
     "text": [
      "Average Restaurant rating for food type are - \r\n",
      "\r\n",
      "{'_id': {'Type of Food': 'Pasta'}, 'Average_Rating': 6.0}\r\n",
      "{'_id': {'Type of Food': 'Punjabi'}, 'Average_Rating': 6.0}\r\n",
      "{'_id': {'Type of Food': 'Cakes'}, 'Average_Rating': 5.5}\r\n",
      "{'_id': {'Type of Food': 'Ice Cream'}, 'Average_Rating': 5.5}\r\n",
      "{'_id': {'Type of Food': 'Bagels'}, 'Average_Rating': 5.5}\r\n",
      "{'_id': {'Type of Food': 'Pick n Mix'}, 'Average_Rating': 5.5}\r\n",
      "{'_id': {'Type of Food': 'Bangladeshi'}, 'Average_Rating': 5.25}\r\n",
      "{'_id': {'Type of Food': 'Persian'}, 'Average_Rating': 5.25}\r\n",
      "{'_id': {'Type of Food': 'Mediterranean'}, 'Average_Rating': 5.25}\r\n",
      "{'_id': {'Type of Food': 'Sushi'}, 'Average_Rating': 5.166666666666667}\r\n",
      "{'_id': {'Type of Food': 'Greek'}, 'Average_Rating': 5.083333333333333}\r\n",
      "{'_id': {'Type of Food': 'Ethiopian'}, 'Average_Rating': 5.0}\r\n",
      "{'_id': {'Type of Food': 'Breakfast'}, 'Average_Rating': 5.0}\r\n",
      "{'_id': {'Type of Food': 'Afghan'}, 'Average_Rating': 5.0}\r\n",
      "{'_id': {'Type of Food': 'Portuguese'}, 'Average_Rating': 5.0}\r\n",
      "{'_id': {'Type of Food': 'Azerbaijan'}, 'Average_Rating': 5.0}\r\n",
      "{'_id': {'Type of Food': 'Sri-lankan'}, 'Average_Rating': 5.0}\r\n",
      "{'_id': {'Type of Food': 'Polish'}, 'Average_Rating': 5.0}\r\n",
      "{'_id': {'Type of Food': 'Korean'}, 'Average_Rating': 5.0}\r\n",
      "{'_id': {'Type of Food': 'Curry'}, 'Average_Rating': 4.994690265486725}\r\n",
      "{'_id': {'Type of Food': 'Fish & Chips'}, 'Average_Rating': 4.9941176470588236}\r\n",
      "{'_id': {'Type of Food': 'Burgers'}, 'Average_Rating': 4.928571428571429}\r\n",
      "{'_id': {'Type of Food': 'Pizza'}, 'Average_Rating': 4.908783783783784}\r\n",
      "{'_id': {'Type of Food': 'Chinese'}, 'Average_Rating': 4.884955752212389}\r\n",
      "{'_id': {'Type of Food': 'Kebab'}, 'Average_Rating': 4.882022471910112}\r\n",
      "{'_id': {'Type of Food': 'Thai'}, 'Average_Rating': 4.86}\r\n",
      "{'_id': {'Type of Food': 'Peri Peri'}, 'Average_Rating': 4.85}\r\n",
      "{'_id': {'Type of Food': 'Turkish'}, 'Average_Rating': 4.833333333333333}\r\n",
      "{'_id': {'Type of Food': 'Lebanese'}, 'Average_Rating': 4.819444444444445}\r\n",
      "{'_id': {'Type of Food': 'Grill'}, 'Average_Rating': 4.8125}\r\n",
      "{'_id': {'Type of Food': 'Mexican'}, 'Average_Rating': 4.785714285714286}\r\n",
      "{'_id': {'Type of Food': 'Japanese'}, 'Average_Rating': 4.777777777777778}\r\n",
      "{'_id': {'Type of Food': 'Milkshakes'}, 'Average_Rating': 4.75}\r\n",
      "{'_id': {'Type of Food': 'South Curry'}, 'Average_Rating': 4.75}\r\n",
      "{'_id': {'Type of Food': 'Caribbean'}, 'Average_Rating': 4.681818181818182}\r\n",
      "{'_id': {'Type of Food': 'English'}, 'Average_Rating': 4.675}\r\n",
      "{'_id': {'Type of Food': 'Arabic'}, 'Average_Rating': 4.666666666666667}\r\n",
      "{'_id': {'Type of Food': 'American'}, 'Average_Rating': 4.666666666666667}\r\n",
      "{'_id': {'Type of Food': 'Middle Eastern'}, 'Average_Rating': 4.625}\r\n",
      "{'_id': {'Type of Food': 'Sandwiches'}, 'Average_Rating': 4.625}\r\n",
      "{'_id': {'Type of Food': 'Moroccan'}, 'Average_Rating': 4.5}\r\n",
      "{'_id': {'Type of Food': 'Russian'}, 'Average_Rating': 4.5}\r\n",
      "{'_id': {'Type of Food': 'Spanish'}, 'Average_Rating': 4.5}\r\n",
      "{'_id': {'Type of Food': 'Nigerian'}, 'Average_Rating': 4.5}\r\n",
      "{'_id': {'Type of Food': 'Healthy'}, 'Average_Rating': 4.5}\r\n",
      "{'_id': {'Type of Food': 'Chicken'}, 'Average_Rating': 4.384615384615385}\r\n",
      "{'_id': {'Type of Food': 'Pakistani'}, 'Average_Rating': 4.333333333333333}\r\n",
      "{'_id': {'Type of Food': 'Desserts'}, 'Average_Rating': 4.25}\r\n",
      "{'_id': {'Type of Food': 'Vietnamese'}, 'Average_Rating': 4.0}\r\n",
      "{'_id': {'Type of Food': 'Vegetarian'}, 'Average_Rating': 4.0}\r\n",
      "{'_id': {'Type of Food': 'African'}, 'Average_Rating': 3.5384615384615383}\r\n",
      "{'_id': {'Type of Food': '*NEW*'}, 'Average_Rating': None}\r\n"
     ]
    }
   ],
   "source": [
    "!python 4_average_rating.py"
   ]
  }
 ],
 "metadata": {
  "kernelspec": {
   "display_name": "Python 3",
   "language": "python",
   "name": "python3"
  },
  "language_info": {
   "codemirror_mode": {
    "name": "ipython",
    "version": 3
   },
   "file_extension": ".py",
   "mimetype": "text/x-python",
   "name": "python",
   "nbconvert_exporter": "python",
   "pygments_lexer": "ipython3",
   "version": "3.8.8"
  }
 },
 "nbformat": 4,
 "nbformat_minor": 5
}
